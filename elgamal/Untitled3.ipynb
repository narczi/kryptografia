{
 "cells": [
  {
   "cell_type": "code",
   "execution_count": 1,
   "id": "78f9f1e5",
   "metadata": {},
   "outputs": [],
   "source": [
    "import numpy as np\n",
    "#1\n",
    "def obliczanie_odwrotności(n, b):  #z = b^(-1) mod n\n",
    "    x = b\n",
    "    y = n\n",
    "    u = 0\n",
    "    v = 1\n",
    "    while True:\n",
    "        q = x // y\n",
    "\n",
    "        ab_matrix = np.array([[0, 1], [1, -q]]) @ np.array([[x], [y]])\n",
    "        uv_matrix = np.array([[0, 1], [1, -q]]) @ np.array([[u], [v]])\n",
    "        x, y, u, v = ab_matrix[0][0], ab_matrix[1][0], uv_matrix[0][0], uv_matrix[1][0]\n",
    "        if y == 0:\n",
    "            break\n",
    "    b_inv = (x - n * u) // b \n",
    "    return b_inv\n"
   ]
  },
  {
   "cell_type": "code",
   "execution_count": 2,
   "id": "4d6e491d",
   "metadata": {},
   "outputs": [],
   "source": [
    "#2\n",
    "def efektywne_potegowanie(n, k, b):  # y=b^k mod n\n",
    "    k = int(k)\n",
    "    y = 1\n",
    "    i = k.bit_length()\n",
    "    while i >= 0:\n",
    "        ki = (k >> i) & 1\n",
    "        y = y ** 2 % n\n",
    "        if ki == 1:\n",
    "            y = y * b % n\n",
    "        i = i - 1\n",
    "    return y"
   ]
  },
  {
   "cell_type": "code",
   "execution_count": 3,
   "id": "03023748",
   "metadata": {},
   "outputs": [],
   "source": [
    "#3 \n",
    "import random\n",
    " \n",
    "def czy_n_jest_liczbą_pierwszą(k, n):    #k- określa dokładność testu, n - liczba do sprawdzenia, test Fermata\n",
    "    i = 0\n",
    "    while i < k:\n",
    "        a = random.randint(1, n - 1)\n",
    "        if pow(a, (n - 1), n) == 1:\n",
    "            i = i + 1\n",
    "        else:\n",
    "            return False\n",
    " \n",
    "    return True"
   ]
  },
  {
   "cell_type": "code",
   "execution_count": 4,
   "id": "32f95388",
   "metadata": {},
   "outputs": [],
   "source": [
    "#4\n",
    "def czy_jest_resztą_kwadratową(p, b):   # p-liczba pierwsza, b-reszta kwadratowa, twierdzenie Eulera\n",
    "    if efektywne_potegowanie(p, (p - 1) / 2, b) == 1:\n",
    "        return True\n",
    "    else:\n",
    "        return False"
   ]
  },
  {
   "cell_type": "code",
   "execution_count": 5,
   "id": "2d7cb65d",
   "metadata": {},
   "outputs": [],
   "source": [
    "#5\n",
    "def pierwiastek_kwadratowy(p, b):     # b-reszta kwadratowa, twierdzenie Eulera\n",
    "    return efektywne_potegowanie(p, (p + 1) / 4, b)"
   ]
  },
  {
   "cell_type": "code",
   "execution_count": 6,
   "id": "161172e8",
   "metadata": {},
   "outputs": [
    {
     "name": "stdout",
     "output_type": "stream",
     "text": [
      "(1200001007189355567638604830767442395694968146370708025974086310640874193884250986673010385534058507570265383780259933576820537857922300372726815082859559871288053107690878396534063149656349903021844728978834160894726922862158018118862405665591989028072661118228984422691012982925052723077557292453803, 600000503594677783819302415383721197847484073185354012987043155320437096942125493336505192767029253785132691890129966788410268928961150186363407541429779935644026553845439198267031574828174951510922364489417080447363461431079009059431202832795994514036330559114492211345506491462526361538778646226901)\n"
     ]
    }
   ],
   "source": [
    "def random_pq():\n",
    "    k = 30\n",
    "    bits = 50\n",
    "    \n",
    "    while True:\n",
    "        q = random.getrandbits(bits)                        \n",
    "        a = czy_n_jest_liczbą_pierwszą(k,q)             \n",
    "        #print(q, a)\n",
    "        if a == True:\n",
    "            break     \n",
    "            \n",
    "    p = 2*q + 1\n",
    "    #print(\"p\",p)\n",
    "    b = czy_n_jest_liczbą_pierwszą(k,p)                  \n",
    "    \n",
    "    if b == 1:                                          \n",
    "        #print(\"p\",p)\n",
    "        #print(\"p\",p)\n",
    "        return p, q\n",
    "    \n",
    "    else:                                                \n",
    "        return random_pq()\n",
    "    \n",
    "print(random_pq())"
   ]
  },
  {
   "cell_type": "code",
   "execution_count": 55,
   "id": "621a05dd",
   "metadata": {},
   "outputs": [],
   "source": [
    "def pq():\n",
    "    p = 120471683029418687071538440325434591814539544830974289094629223908748885878701977499366767041636724573600462526018305751410401637006900776611105633028708553943579675496053770805388766680786652129988323\n",
    "    q = 60235841514709343535769220162717295907269772415487144547314611954374442939350988749683383520818362286800231263009152875705200818503450388305552816514354276971789837748026885402694383340393326064994161\n",
    "    g = 49715514348199090400843794814660308877056073622245224797010955964356803526998184663309372595341717728544108806549188510677381031650589317444134306192256169850270129536251405398086847139926932014947864\n",
    "    #p = 1897586663842967\n",
    "    #q = 948793331921483\n",
    "    return p, q, g\n"
   ]
  },
  {
   "cell_type": "code",
   "execution_count": 32,
   "id": "e4bf4045",
   "metadata": {},
   "outputs": [
    {
     "name": "stdout",
     "output_type": "stream",
     "text": [
      "57097137836671093047003525288536257694805299707001839053611759333736010974240477105579332245893912786332798779241582648886328769243840364878819466746256037426372037806895593566410274688952258121225545\n"
     ]
    }
   ],
   "source": [
    "def random_g():\n",
    "    #p, q = random_pq()\n",
    "    p, q = pq() \n",
    "    g = random.randint(2, p)\n",
    "    if pow(g, 2, p) == 1:\n",
    "        #print(\"1\",g)\n",
    "        return random_g()\n",
    "    elif pow(g, q, p) == 1:\n",
    "        #print(\"2\",g)\n",
    "        return random_g()\n",
    "    else:\n",
    "        #print(\"3\",g)\n",
    "        return g\n",
    "    \n",
    "print(random_g())"
   ]
  },
  {
   "cell_type": "code",
   "execution_count": 49,
   "id": "09ed3423",
   "metadata": {},
   "outputs": [
    {
     "name": "stdout",
     "output_type": "stream",
     "text": [
      "(118547870310675000497231960173313673177410587607726171679445693734787210691501742336646144501936848129634571406739048343558339043052795639397574095084599806215497056716526374126527342778481973733064002, 30153590445973345964281830231253199222388683219904718276387797296207083098644809481458512519967546429417329233879208898397546903027424929422377319433365212099438255527214476109312040319181902225438986)\n"
     ]
    }
   ],
   "source": [
    "def random_xy():\n",
    "    p, q, g = pq()\n",
    "    x = random.randint(2, p-1)\n",
    "    #g = random_g()\n",
    "    y = efektywne_potegowanie(p, x, g)\n",
    "    return y, x\n",
    "\n",
    "print(random_xy())"
   ]
  },
  {
   "cell_type": "code",
   "execution_count": 70,
   "id": "d41ef227",
   "metadata": {},
   "outputs": [
    {
     "name": "stdout",
     "output_type": "stream",
     "text": [
      "Wiadomość do zakodowania.449331\n",
      "(27973394582271543299088048637091425531069540381501664200247425206441003221645295911874032382030514799845647518924692204276233071186166257870708961783437359180328441597373135361854287374191999828878429, 38172042280823887163061002773598503723889946979231320799319501534895694219517714227992549848898931258154914313777058005055589681072717606166979550485655651992884415416685216267180903832392746111992010, 86230045342414239104643352867095870538785177142590542102081344148418416470601806681682425150091718936383238190090986878851139656661222351632657806890381485789345331094054136989591507427916285227940337)\n"
     ]
    }
   ],
   "source": [
    "def encryption():\n",
    "    p, q, g = pq()\n",
    "    y, x = random_xy()\n",
    "    \n",
    "    M = int(input(\"Wiadomość do zakodowania.\"))\n",
    "    #M = 449331\n",
    "    z = random.randint(2, p-1)\n",
    "    c1 = efektywne_potegowanie(p, z, g)\n",
    "    c2 = (M * efektywne_potegowanie(p, z, y)) %p \n",
    "    return c1, c2, x\n",
    "\n",
    "print(encryption())"
   ]
  },
  {
   "cell_type": "code",
   "execution_count": 71,
   "id": "c46c8d81",
   "metadata": {},
   "outputs": [
    {
     "name": "stdout",
     "output_type": "stream",
     "text": [
      "Wiadomość do zakodowania.449332\n",
      "449332\n"
     ]
    }
   ],
   "source": [
    "def decryption():\n",
    "    \n",
    "    p, q, g = pq()\n",
    "    #x = 85720858922740588126983406557358700564488303503847780681244970081981825134000307891191524927525920688713539942945291148501925150988185987835997587278168250875758050589974743606782648062742215240046527\n",
    "    c1, c2, x = encryption()\n",
    "    m = (c2 * efektywne_potegowanie(p, p-1-x, c1)) % p\n",
    "    return m\n",
    "    \n",
    "print(decryption())"
   ]
  },
  {
   "cell_type": "code",
   "execution_count": null,
   "id": "42b1e0dc",
   "metadata": {},
   "outputs": [],
   "source": []
  }
 ],
 "metadata": {
  "kernelspec": {
   "display_name": "Python 3 (ipykernel)",
   "language": "python",
   "name": "python3"
  },
  "language_info": {
   "codemirror_mode": {
    "name": "ipython",
    "version": 3
   },
   "file_extension": ".py",
   "mimetype": "text/x-python",
   "name": "python",
   "nbconvert_exporter": "python",
   "pygments_lexer": "ipython3",
   "version": "3.9.13"
  }
 },
 "nbformat": 4,
 "nbformat_minor": 5
}
